{
 "cells": [
  {
   "cell_type": "code",
   "execution_count": 1,
   "metadata": {},
   "outputs": [],
   "source": [
    "%load_ext autoreload\n",
    "%autoreload 2\n",
    "%matplotlib inline"
   ]
  },
  {
   "cell_type": "code",
   "execution_count": 2,
   "metadata": {},
   "outputs": [],
   "source": [
    "import sys\n",
    "sys.path.append('/Users/gsinyakov/ts_course_summer/')"
   ]
  },
  {
   "cell_type": "code",
   "execution_count": 3,
   "metadata": {},
   "outputs": [
    {
     "data": {
      "text/html": [
       "        <script type=\"text/javascript\">\n",
       "        window.PlotlyConfig = {MathJaxConfig: 'local'};\n",
       "        if (window.MathJax) {MathJax.Hub.Config({SVG: {font: \"STIX-Web\"}});}\n",
       "        if (typeof require !== 'undefined') {\n",
       "        require.undef(\"plotly\");\n",
       "        requirejs.config({\n",
       "            paths: {\n",
       "                'plotly': ['https://cdn.plot.ly/plotly-latest.min']\n",
       "            }\n",
       "        });\n",
       "        require(['plotly'], function(Plotly) {\n",
       "            window._Plotly = Plotly;\n",
       "        });\n",
       "        }\n",
       "        </script>\n",
       "        "
      ]
     },
     "metadata": {},
     "output_type": "display_data"
    }
   ],
   "source": [
    "import matplotlib.pyplot as plt\n",
    "\n",
    "import load_dataset\n",
    "import plotting"
   ]
  },
  {
   "cell_type": "code",
   "execution_count": 4,
   "metadata": {},
   "outputs": [],
   "source": [
    "dataset = load_dataset.Dataset('../data/dataset/')"
   ]
  },
  {
   "cell_type": "markdown",
   "metadata": {},
   "source": [
    "## Разбор (не запускать ячейки)"
   ]
  },
  {
   "cell_type": "markdown",
   "metadata": {},
   "source": [
    "### Выгрузим временной ряд индекса Доу-Джонса, один из ярких примеров рядов, который, будучи случайным блужданием, очень сложно предсказать лучше наивного метода."
   ]
  },
  {
   "cell_type": "code",
   "execution_count": 83,
   "metadata": {},
   "outputs": [],
   "source": [
    "ts = dataset['dow_jones_3.csv']"
   ]
  },
  {
   "cell_type": "code",
   "execution_count": 84,
   "metadata": {},
   "outputs": [
    {
     "data": {
      "text/plain": [
       "<matplotlib.axes._subplots.AxesSubplot at 0x1213f4748>"
      ]
     },
     "execution_count": 84,
     "metadata": {},
     "output_type": "execute_result"
    },
    {
     "data": {
      "image/png": "[encoded data removed]",
      "text/plain": [
       "<Figure size 432x288 with 1 Axes>"
      ]
     },
     "metadata": {
      "needs_background": "light"
     },
     "output_type": "display_data"
    }
   ],
   "source": [
    "ts.plot()"
   ]
  },
  {
   "cell_type": "code",
   "execution_count": 85,
   "metadata": {},
   "outputs": [
    {
     "data": {
      "text/plain": [
       "250"
      ]
     },
     "execution_count": 85,
     "metadata": {},
     "output_type": "execute_result"
    }
   ],
   "source": [
    "len(ts)"
   ]
  },
  {
   "cell_type": "markdown",
   "metadata": {},
   "source": [
    "### Разобьем ряд на трейн и тест и попробуем зафитить нашу \"сложную\" ML модель TimeSeriesPredictor с базой в виде линейной регрессии."
   ]
  },
  {
   "cell_type": "code",
   "execution_count": 89,
   "metadata": {},
   "outputs": [],
   "source": [
    "ts_train, ts_test = ts[:200], ts[200:]"
   ]
  },
  {
   "cell_type": "code",
   "execution_count": 90,
   "metadata": {},
   "outputs": [],
   "source": [
    "from model import TimeSeriesPredictor\n",
    "from sklearn.ensemble import GradientBoostingRegressor\n",
    "from sklearn.linear_model import LinearRegression\n",
    "\n",
    "predictor = TimeSeriesPredictor(\n",
    "    num_lags=12,\n",
    "    granularity='P1D',\n",
    "    Model=LinearRegression\n",
    ")"
   ]
  },
  {
   "cell_type": "code",
   "execution_count": 91,
   "metadata": {},
   "outputs": [],
   "source": [
    "predictor.fit(ts_train)"
   ]
  },
  {
   "cell_type": "markdown",
   "metadata": {},
   "source": [
    "### Сделаем one step ahead предсказания на тесте, предсказание выглядит неплохо."
   ]
  },
  {
   "cell_type": "code",
   "execution_count": 92,
   "metadata": {},
   "outputs": [],
   "source": [
    "preds = predictor.predict_batch(ts_train, ts_test)"
   ]
  },
  {
   "cell_type": "code",
   "execution_count": 93,
   "metadata": {},
   "outputs": [
    {
     "data": {
      "application/vnd.plotly.v1+json": {
       "config": {
        "linkText": "Export to plot.ly",
        "plotlyServerURL": "https://plot.ly",
        "responsive": true,
        "showLink": false
       },
       "data": [
        {
         "name": "25538.460938",
         "type": "scatter",
         "uid": "210aea92-0459-4ce8-8e2d-b01a1763b32a",
         "x": [
          "2018-12-03",
          "2018-12-04",
          "2018-12-06",
          "2018-12-07",
          "2018-12-10",
          "2018-12-11",
          "2018-12-12",
          "2018-12-13",
          "2018-12-14",
          "2018-12-17",
          "2018-12-18",
          "2018-12-19",
          "2018-12-20",
          "2018-12-21",
          "2018-12-24",
          "2018-12-26",
          "2018-12-27",
          "2018-12-28",
          "2018-12-31",
          "2019-01-02",
          "2019-01-03",
          "2019-01-04",
          "2019-01-07",
          "2019-01-08",
          "2019-01-09",
          "2019-01-10",
          "2019-01-11",
          "2019-01-14",
          "2019-01-15",
          "2019-01-16",
          "2019-01-17",
          "2019-01-18",
          "2019-01-22",
          "2019-01-23",
          "2019-01-24",
          "2019-01-25",
          "2019-01-28",
          "2019-01-29",
          "2019-01-30",
          "2019-01-31",
          "2019-02-01",
          "2019-02-04",
          "2019-02-05",
          "2019-02-06",
          "2019-02-07",
          "2019-02-08",
          "2019-02-11",
          "2019-02-12",
          "2019-02-13",
          "2019-02-14",
          "2019-02-15",
          "2019-02-19",
          "2019-02-20",
          "2019-02-21",
          "2019-02-22",
          "2019-02-25",
          "2019-02-26",
          "2019-02-27",
          "2019-02-28",
          "2019-03-01",
          "2019-03-04",
          "2019-03-05",
          "2019-03-06",
          "2019-03-07",
          "2019-03-08",
          "2019-03-11",
          "2019-03-12",
          "2019-03-13",
          "2019-03-14",
          "2019-03-15",
          "2019-03-18",
          "2019-03-19",
          "2019-03-20",
          "2019-03-21",
          "2019-03-22",
          "2019-03-25",
          "2019-03-26",
          "2019-03-27",
          "2019-03-28",
          "2019-03-29",
          "2019-04-01",
          "2019-04-02",
          "2019-04-03",
          "2019-04-04",
          "2019-04-05",
          "2019-04-08",
          "2019-04-09",
          "2019-04-10",
          "2019-04-11",
          "2019-04-12",
          "2019-04-15",
          "2019-04-16",
          "2019-04-17",
          "2019-04-18",
          "2019-04-22",
          "2019-04-23",
          "2019-04-24",
          "2019-04-25",
          "2019-04-26",
          "2019-04-29",
          "2019-04-30",
          "2019-05-01",
          "2019-05-02",
          "2019-05-03",
          "2019-05-06",
          "2019-05-07",
          "2019-05-08",
          "2019-05-09",
          "2019-05-10",
          "2019-05-13",
          "2019-05-14",
          "2019-05-15",
          "2019-05-16",
          "2019-05-17",
          "2019-05-20",
          "2019-05-21",
          "2019-05-22",
          "2019-05-23",
          "2019-05-24",
          "2019-05-28",
          "2019-05-29",
          "2019-05-30",
          "2019-05-31",
          "2019-06-03",
          "2019-06-04",
          "2019-06-05",
          "2019-06-06",
          "2019-06-07",
          "2019-06-10",
          "2019-06-11",
          "2019-06-12",
          "2019-06-13",
          "2019-06-14",
          "2019-06-17",
          "2019-06-18",
          "2019-06-19",
          "2019-06-20",
          "2019-06-21",
          "2019-06-24",
          "2019-06-25",
          "2019-06-26",
          "2019-06-27",
          "2019-06-28",
          "2019-07-01",
          "2019-07-02",
          "2019-07-03",
          "2019-07-05",
          "2019-07-08",
          "2019-07-09",
          "2019-07-10",
          "2019-07-11",
          "2019-07-12",
          "2019-07-15",
          "2019-07-16",
          "2019-07-17",
          "2019-07-18",
          "2019-07-19",
          "2019-07-22",
          "2019-07-23",
          "2019-07-24",
          "2019-07-25",
          "2019-07-26",
          "2019-07-29",
          "2019-07-30",
          "2019-07-31",
          "2019-08-01",
          "2019-08-02",
          "2019-08-05",
          "2019-08-06",
          "2019-08-07",
          "2019-08-08",
          "2019-08-09",
          "2019-08-12",
          "2019-08-13",
          "2019-08-14",
          "2019-08-15",
          "2019-08-16",
          "2019-08-19",
          "2019-08-20",
          "2019-08-21",
          "2019-08-22",
          "2019-08-23",
          "2019-08-26",
          "2019-08-27",
          "2019-08-28",
          "2019-08-29",
          "2019-08-30",
          "2019-09-03",
          "2019-09-04",
          "2019-09-05",
          "2019-09-06",
          "2019-09-09",
          "2019-09-10",
          "2019-09-11",
          "2019-09-12",
          "2019-09-13",
          "2019-09-16",
          "2019-09-17",
          "2019-09-18",
          "2019-09-19",
          "2019-09-20",
          "2019-09-23",
          "2019-09-24",
          "2019-09-25",
          "2019-09-26",
          "2019-09-27",
          "2019-09-30",
          "2019-10-01",
          "2019-10-02",
          "2019-10-03",
          "2019-10-04",
          "2019-10-07",
          "2019-10-08",
          "2019-10-09",
          "2019-10-10",
          "2019-10-11",
          "2019-10-14",
          "2019-10-15",
          "2019-10-16",
          "2019-10-17",
          "2019-10-18",
          "2019-10-21",
          "2019-10-22",
          "2019-10-23",
          "2019-10-24",
          "2019-10-25",
          "2019-10-28",
          "2019-10-29",
          "2019-10-30",
          "2019-10-31",
          "2019-11-01",
          "2019-11-04",
          "2019-11-05",
          "2019-11-06",
          "2019-11-07",
          "2019-11-08",
          "2019-11-11",
          "2019-11-12",
          "2019-11-13",
          "2019-11-14",
          "2019-11-15",
          "2019-11-18",
          "2019-11-19",
          "2019-11-20",
          "2019-11-21",
          "2019-11-22",
          "2019-11-25",
          "2019-11-26",
          "2019-11-27",
          "2019-11-29"
         ],
         "y": [
          25826.429688,
          25027.070313,
          24947.669922,
          24388.949219,
          24423.259766,
          24370.240234,
          24527.269531,
          24597.380859,
          24100.509766,
          23592.980469,
          23675.640625,
          23323.660156,
          22859.599609,
          22445.369141,
          21792.199219,
          22878.449219,
          23138.820313,
          23062.400391,
          23327.460938,
          23346.240234,
          22686.220703,
          23433.160156,
          23531.349609,
          23787.449219,
          23879.119141,
          24001.919922,
          23995.949219,
          23909.839844,
          24065.589844,
          24207.160156,
          24370.099609,
          24706.349609,
          24404.480469,
          24575.619141,
          24553.240234,
          24737.199219,
          24528.220703,
          24579.960938,
          25014.859375,
          24999.669922,
          25063.890625,
          25239.369141,
          25411.519531,
          25390.300781,
          25169.529297,
          25106.330078,
          25053.109375,
          25425.759766,
          25543.269531,
          25439.390625,
          25883.25,
          25891.320313,
          25954.439453,
          25850.630859,
          26031.810547,
          26091.949219,
          26057.980469,
          25985.160156,
          25916,
          26026.320313,
          25819.650391,
          25806.630859,
          25673.460938,
          25473.230469,
          25450.240234,
          25650.880859,
          25554.660156,
          25702.890625,
          25709.939453,
          25848.869141,
          25914.099609,
          25887.380859,
          25745.669922,
          25962.509766,
          25502.320313,
          25516.830078,
          25657.730469,
          25625.589844,
          25717.460938,
          25928.679688,
          26258.419922,
          26179.130859,
          26218.130859,
          26384.630859,
          26424.990234,
          26341.019531,
          26150.580078,
          26157.160156,
          26143.050781,
          26412.300781,
          26384.769531,
          26452.660156,
          26449.539063,
          26559.539063,
          26511.050781,
          26656.390625,
          26597.050781,
          26462.080078,
          26543.330078,
          26554.390625,
          26592.910156,
          26430.140625,
          26307.789063,
          26504.949219,
          26438.480469,
          25965.089844,
          25967.330078,
          25828.359375,
          25942.369141,
          25324.990234,
          25532.050781,
          25648.019531,
          25862.679688,
          25764,
          25679.900391,
          25877.330078,
          25776.609375,
          25490.470703,
          25585.689453,
          25347.769531,
          25126.410156,
          25169.880859,
          24815.039063,
          24819.779297,
          25332.179688,
          25539.570313,
          25720.660156,
          25983.939453,
          26062.679688,
          26048.509766,
          26004.830078,
          26106.769531,
          26089.609375,
          26112.529297,
          26465.539063,
          26504,
          26753.169922,
          26719.130859,
          26727.539063,
          26548.220703,
          26536.820313,
          26526.580078,
          26599.960938,
          26717.429688,
          26786.679688,
          26966,
          26922.119141000006,
          26806.140625,
          26783.490234,
          26860.199219,
          27088.080077999995,
          27332.029297000005,
          27359.160156,
          27335.630859,
          27219.849609,
          27222.970702999995,
          27154.199219,
          27171.900391000006,
          27349.189452999995,
          27269.970702999995,
          27140.980469,
          27192.449219,
          27221.349609,
          27198.019531,
          26864.269531,
          26583.419922,
          26485.009766,
          25717.740234,
          26029.519531,
          26007.070313,
          26378.189453,
          26287.439453,
          25896.439453,
          26279.910156,
          25479.419922,
          25579.390625,
          25886.009766,
          26135.789063,
          25962.439453,
          26202.730469,
          26252.240234,
          25628.900391,
          25898.830078,
          25777.900391,
          26036.099609,
          26362.25,
          26403.279297,
          26118.019531,
          26355.470703,
          26728.150391,
          26797.460938,
          26835.509766,
          26909.429688,
          27137.039063,
          27182.449219,
          27219.519531,
          27076.820313,
          27110.800781,
          27147.080077999995,
          27094.789063,
          26935.070313,
          26949.990234,
          26807.769531,
          26970.710938,
          26891.119141000006,
          26820.25,
          26916.830077999995,
          26573.039063,
          26078.619141,
          26201.039063,
          26573.720703,
          26478.019531,
          26164.039063,
          26346.009766,
          26496.669922,
          26816.589844,
          26787.359375,
          27024.800781,
          27001.980469,
          27025.880859,
          26770.199219,
          26827.640625,
          26788.099609,
          26833.949219,
          26805.529297,
          26958.060547000005,
          27090.720702999995,
          27071.460938,
          27186.689452999995,
          27046.230469,
          27347.359375,
          27462.109375,
          27492.630859,
          27492.560547000005,
          27674.800781,
          27681.240234,
          27691.490234,
          27691.490234,
          27783.589844,
          27781.960938,
          28004.890625,
          28036.220702999995,
          27934.019531,
          27821.089844,
          27766.289063,
          27875.619141000006,
          28066.470702999995,
          28121.679688,
          28164,
          28051.410156
         ]
        },
        {
         "type": "scatter",
         "uid": "4f7fe670-46f3-40dc-a261-a537766a16b0",
         "x": [
          "2019-09-20",
          "2019-09-23",
          "2019-09-24",
          "2019-09-25",
          "2019-09-26",
          "2019-09-27",
          "2019-09-30",
          "2019-10-01",
          "2019-10-02",
          "2019-10-03",
          "2019-10-04",
          "2019-10-07",
          "2019-10-08",
          "2019-10-09",
          "2019-10-10",
          "2019-10-11",
          "2019-10-14",
          "2019-10-15",
          "2019-10-16",
          "2019-10-17",
          "2019-10-18",
          "2019-10-21",
          "2019-10-22",
          "2019-10-23",
          "2019-10-24",
          "2019-10-25",
          "2019-10-28",
          "2019-10-29",
          "2019-10-30",
          "2019-10-31",
          "2019-11-01",
          "2019-11-04",
          "2019-11-05",
          "2019-11-06",
          "2019-11-07",
          "2019-11-08",
          "2019-11-11",
          "2019-11-12",
          "2019-11-13",
          "2019-11-14",
          "2019-11-15",
          "2019-11-18",
          "2019-11-19",
          "2019-11-20",
          "2019-11-21",
          "2019-11-22",
          "2019-11-25",
          "2019-11-26",
          "2019-11-27",
          "2019-11-29"
         ],
         "y": [
          27110.615091649794,
          26950.211989721894,
          26949.005048766347,
          26786.599493200625,
          26941.513592602067,
          26851.157612313335,
          26816.77159111196,
          26856.244477078602,
          26570.596536524077,
          26106.02964696917,
          26167.67933315614,
          26472.115113038864,
          26514.338429887408,
          26218.907820466382,
          26280.113480283617,
          26397.374509268866,
          26727.774820482337,
          26751.04567251866,
          26989.385252601496,
          26958.931366056444,
          26999.645614516714,
          26757.136731120434,
          26840.312858954418,
          26769.5088209095,
          26882.240165458465,
          26800.86637568996,
          26961.639411854998,
          27020.633854384716,
          27054.500928485173,
          27108.26595308856,
          27022.875741394506,
          27263.37194148156,
          27406.8029865751,
          27471.65239568704,
          27469.13494762144,
          27617.029894479576,
          27616.121240705677,
          27678.688023370712,
          27630.606210399506,
          27755.340929443264,
          27730.02596631255,
          27949.214009713847,
          27968.878538842688,
          27910.358812138635,
          27763.59239935737,
          27708.410166112277,
          27793.001042324937,
          28002.17640731791,
          28061.676966307965,
          28116.530235348677
         ]
        }
       ],
       "layout": {}
      },
      "text/html": [
       "<div>\n",
       "        \n",
       "        \n",
       "            <div id=\"31818767-cd76-4aef-9d87-f905f6184426\" class=\"plotly-graph-div\" style=\"height:525px; width:100%;\"></div>\n",
       "            <script type=\"text/javascript\">\n",
       "                require([\"plotly\"], function(Plotly) {\n",
       "                    window.PLOTLYENV=window.PLOTLYENV || {};\n",
       "                    window.PLOTLYENV.BASE_URL='https://plot.ly';\n",
       "                    \n",
       "                if (document.getElementById(\"31818767-cd76-4aef-9d87-f905f6184426\")) {\n",
       "                    Plotly.newPlot(\n",
       "                        '31818767-cd76-4aef-9d87-f905f6184426',\n",
       "                        [{\"name\": \"25538.460938\", \"type\": \"scatter\", \"uid\": \"ff192060-ad9f-43ab-b066-c27d1c34ca5c\", \"x\": [\"2018-12-03\", \"2018-12-04\", \"2018-12-06\", \"2018-12-07\", \"2018-12-10\", \"2018-12-11\", \"2018-12-12\", \"2018-12-13\", \"2018-12-14\", \"2018-12-17\", \"2018-12-18\", \"2018-12-19\", \"2018-12-20\", \"2018-12-21\", \"2018-12-24\", \"2018-12-26\", \"2018-12-27\", \"2018-12-28\", \"2018-12-31\", \"2019-01-02\", \"2019-01-03\", \"2019-01-04\", \"2019-01-07\", \"2019-01-08\", \"2019-01-09\", \"2019-01-10\", \"2019-01-11\", \"2019-01-14\", \"2019-01-15\", \"2019-01-16\", \"2019-01-17\", \"2019-01-18\", \"2019-01-22\", \"2019-01-23\", \"2019-01-24\", \"2019-01-25\", \"2019-01-28\", \"2019-01-29\", \"2019-01-30\", \"2019-01-31\", \"2019-02-01\", \"2019-02-04\", \"2019-02-05\", \"2019-02-06\", \"2019-02-07\", \"2019-02-08\", \"2019-02-11\", \"2019-02-12\", \"2019-02-13\", \"2019-02-14\", \"2019-02-15\", \"2019-02-19\", \"2019-02-20\", \"2019-02-21\", \"2019-02-22\", \"2019-02-25\", \"2019-02-26\", \"2019-02-27\", \"2019-02-28\", \"2019-03-01\", \"2019-03-04\", \"2019-03-05\", \"2019-03-06\", \"2019-03-07\", \"2019-03-08\", \"2019-03-11\", \"2019-03-12\", \"2019-03-13\", \"2019-03-14\", \"2019-03-15\", \"2019-03-18\", \"2019-03-19\", \"2019-03-20\", \"2019-03-21\", \"2019-03-22\", \"2019-03-25\", \"2019-03-26\", \"2019-03-27\", \"2019-03-28\", \"2019-03-29\", \"2019-04-01\", \"2019-04-02\", \"2019-04-03\", \"2019-04-04\", \"2019-04-05\", \"2019-04-08\", \"2019-04-09\", \"2019-04-10\", \"2019-04-11\", \"2019-04-12\", \"2019-04-15\", \"2019-04-16\", \"2019-04-17\", \"2019-04-18\", \"2019-04-22\", \"2019-04-23\", \"2019-04-24\", \"2019-04-25\", \"2019-04-26\", \"2019-04-29\", \"2019-04-30\", \"2019-05-01\", \"2019-05-02\", \"2019-05-03\", \"2019-05-06\", \"2019-05-07\", \"2019-05-08\", \"2019-05-09\", \"2019-05-10\", \"2019-05-13\", \"2019-05-14\", \"2019-05-15\", \"2019-05-16\", \"2019-05-17\", \"2019-05-20\", \"2019-05-21\", \"2019-05-22\", \"2019-05-23\", \"2019-05-24\", \"2019-05-28\", \"2019-05-29\", \"2019-05-30\", \"2019-05-31\", \"2019-06-03\", \"2019-06-04\", \"2019-06-05\", \"2019-06-06\", \"2019-06-07\", \"2019-06-10\", \"2019-06-11\", \"2019-06-12\", \"2019-06-13\", \"2019-06-14\", \"2019-06-17\", \"2019-06-18\", \"2019-06-19\", \"2019-06-20\", \"2019-06-21\", \"2019-06-24\", \"2019-06-25\", \"2019-06-26\", \"2019-06-27\", \"2019-06-28\", \"2019-07-01\", \"2019-07-02\", \"2019-07-03\", \"2019-07-05\", \"2019-07-08\", \"2019-07-09\", \"2019-07-10\", \"2019-07-11\", \"2019-07-12\", \"2019-07-15\", \"2019-07-16\", \"2019-07-17\", \"2019-07-18\", \"2019-07-19\", \"2019-07-22\", \"2019-07-23\", \"2019-07-24\", \"2019-07-25\", \"2019-07-26\", \"2019-07-29\", \"2019-07-30\", \"2019-07-31\", \"2019-08-01\", \"2019-08-02\", \"2019-08-05\", \"2019-08-06\", \"2019-08-07\", \"2019-08-08\", \"2019-08-09\", \"2019-08-12\", \"2019-08-13\", \"2019-08-14\", \"2019-08-15\", \"2019-08-16\", \"2019-08-19\", \"2019-08-20\", \"2019-08-21\", \"2019-08-22\", \"2019-08-23\", \"2019-08-26\", \"2019-08-27\", \"2019-08-28\", \"2019-08-29\", \"2019-08-30\", \"2019-09-03\", \"2019-09-04\", \"2019-09-05\", \"2019-09-06\", \"2019-09-09\", \"2019-09-10\", \"2019-09-11\", \"2019-09-12\", \"2019-09-13\", \"2019-09-16\", \"2019-09-17\", \"2019-09-18\", \"2019-09-19\", \"2019-09-20\", \"2019-09-23\", \"2019-09-24\", \"2019-09-25\", \"2019-09-26\", \"2019-09-27\", \"2019-09-30\", \"2019-10-01\", \"2019-10-02\", \"2019-10-03\", \"2019-10-04\", \"2019-10-07\", \"2019-10-08\", \"2019-10-09\", \"2019-10-10\", \"2019-10-11\", \"2019-10-14\", \"2019-10-15\", \"2019-10-16\", \"2019-10-17\", \"2019-10-18\", \"2019-10-21\", \"2019-10-22\", \"2019-10-23\", \"2019-10-24\", \"2019-10-25\", \"2019-10-28\", \"2019-10-29\", \"2019-10-30\", \"2019-10-31\", \"2019-11-01\", \"2019-11-04\", \"2019-11-05\", \"2019-11-06\", \"2019-11-07\", \"2019-11-08\", \"2019-11-11\", \"2019-11-12\", \"2019-11-13\", \"2019-11-14\", \"2019-11-15\", \"2019-11-18\", \"2019-11-19\", \"2019-11-20\", \"2019-11-21\", \"2019-11-22\", \"2019-11-25\", \"2019-11-26\", \"2019-11-27\", \"2019-11-29\"], \"y\": [25826.429688, 25027.070313, 24947.669922, 24388.949219, 24423.259766, 24370.240234, 24527.269531, 24597.380859, 24100.509766, 23592.980469, 23675.640625, 23323.660156, 22859.599609, 22445.369141, 21792.199219, 22878.449219, 23138.820313, 23062.400391, 23327.460938, 23346.240234, 22686.220703, 23433.160156, 23531.349609, 23787.449219, 23879.119141, 24001.919922, 23995.949219, 23909.839844, 24065.589844, 24207.160156, 24370.099609, 24706.349609, 24404.480469, 24575.619141, 24553.240234, 24737.199219, 24528.220703, 24579.960938, 25014.859375, 24999.669922, 25063.890625, 25239.369141, 25411.519531, 25390.300781, 25169.529297, 25106.330078, 25053.109375, 25425.759766, 25543.269531, 25439.390625, 25883.25, 25891.320313, 25954.439453, 25850.630859, 26031.810547, 26091.949219, 26057.980469, 25985.160156, 25916.0, 26026.320313, 25819.650391, 25806.630859, 25673.460938, 25473.230469, 25450.240234, 25650.880859, 25554.660156, 25702.890625, 25709.939453, 25848.869141, 25914.099609, 25887.380859, 25745.669922, 25962.509766, 25502.320313, 25516.830078, 25657.730469, 25625.589844, 25717.460938, 25928.679688, 26258.419922, 26179.130859, 26218.130859, 26384.630859, 26424.990234, 26341.019531, 26150.580078, 26157.160156, 26143.050781, 26412.300781, 26384.769531, 26452.660156, 26449.539063, 26559.539063, 26511.050781, 26656.390625, 26597.050781, 26462.080078, 26543.330078, 26554.390625, 26592.910156, 26430.140625, 26307.789063, 26504.949219, 26438.480469, 25965.089844, 25967.330078, 25828.359375, 25942.369141, 25324.990234, 25532.050781, 25648.019531, 25862.679688, 25764.0, 25679.900391, 25877.330078, 25776.609375, 25490.470703, 25585.689453, 25347.769531, 25126.410156, 25169.880859, 24815.039063, 24819.779297, 25332.179688, 25539.570313, 25720.660156, 25983.939453, 26062.679688, 26048.509766, 26004.830078, 26106.769531, 26089.609375, 26112.529297, 26465.539063, 26504.0, 26753.169922, 26719.130859, 26727.539063, 26548.220703, 26536.820313, 26526.580078, 26599.960938, 26717.429688, 26786.679688, 26966.0, 26922.119141000006, 26806.140625, 26783.490234, 26860.199219, 27088.080077999995, 27332.029297000005, 27359.160156, 27335.630859, 27219.849609, 27222.970702999995, 27154.199219, 27171.900391000006, 27349.189452999995, 27269.970702999995, 27140.980469, 27192.449219, 27221.349609, 27198.019531, 26864.269531, 26583.419922, 26485.009766, 25717.740234, 26029.519531, 26007.070313, 26378.189453, 26287.439453, 25896.439453, 26279.910156, 25479.419922, 25579.390625, 25886.009766, 26135.789063, 25962.439453, 26202.730469, 26252.240234, 25628.900391, 25898.830078, 25777.900391, 26036.099609, 26362.25, 26403.279297, 26118.019531, 26355.470703, 26728.150391, 26797.460938, 26835.509766, 26909.429688, 27137.039063, 27182.449219, 27219.519531, 27076.820313, 27110.800781, 27147.080077999995, 27094.789063, 26935.070313, 26949.990234, 26807.769531, 26970.710938, 26891.119141000006, 26820.25, 26916.830077999995, 26573.039063, 26078.619141, 26201.039063, 26573.720703, 26478.019531, 26164.039063, 26346.009766, 26496.669922, 26816.589844, 26787.359375, 27024.800781, 27001.980469, 27025.880859, 26770.199219, 26827.640625, 26788.099609, 26833.949219, 26805.529297, 26958.060547000005, 27090.720702999995, 27071.460938, 27186.689452999995, 27046.230469, 27347.359375, 27462.109375, 27492.630859, 27492.560547000005, 27674.800781, 27681.240234, 27691.490234, 27691.490234, 27783.589844, 27781.960938, 28004.890625, 28036.220702999995, 27934.019531, 27821.089844, 27766.289063, 27875.619141000006, 28066.470702999995, 28121.679688, 28164.0, 28051.410156]}, {\"type\": \"scatter\", \"uid\": \"a703ea78-5e6a-4f1a-9ad2-358bd41a8cd7\", \"x\": [\"2019-09-20\", \"2019-09-23\", \"2019-09-24\", \"2019-09-25\", \"2019-09-26\", \"2019-09-27\", \"2019-09-30\", \"2019-10-01\", \"2019-10-02\", \"2019-10-03\", \"2019-10-04\", \"2019-10-07\", \"2019-10-08\", \"2019-10-09\", \"2019-10-10\", \"2019-10-11\", \"2019-10-14\", \"2019-10-15\", \"2019-10-16\", \"2019-10-17\", \"2019-10-18\", \"2019-10-21\", \"2019-10-22\", \"2019-10-23\", \"2019-10-24\", \"2019-10-25\", \"2019-10-28\", \"2019-10-29\", \"2019-10-30\", \"2019-10-31\", \"2019-11-01\", \"2019-11-04\", \"2019-11-05\", \"2019-11-06\", \"2019-11-07\", \"2019-11-08\", \"2019-11-11\", \"2019-11-12\", \"2019-11-13\", \"2019-11-14\", \"2019-11-15\", \"2019-11-18\", \"2019-11-19\", \"2019-11-20\", \"2019-11-21\", \"2019-11-22\", \"2019-11-25\", \"2019-11-26\", \"2019-11-27\", \"2019-11-29\"], \"y\": [27110.615091649794, 26950.211989721894, 26949.005048766347, 26786.599493200625, 26941.513592602067, 26851.157612313335, 26816.77159111196, 26856.244477078602, 26570.596536524077, 26106.02964696917, 26167.67933315614, 26472.115113038864, 26514.338429887408, 26218.907820466382, 26280.113480283617, 26397.374509268866, 26727.774820482337, 26751.04567251866, 26989.385252601496, 26958.931366056444, 26999.645614516714, 26757.136731120434, 26840.312858954418, 26769.5088209095, 26882.240165458465, 26800.86637568996, 26961.639411854998, 27020.633854384716, 27054.500928485173, 27108.26595308856, 27022.875741394506, 27263.37194148156, 27406.8029865751, 27471.65239568704, 27469.13494762144, 27617.029894479576, 27616.121240705677, 27678.688023370712, 27630.606210399506, 27755.340929443264, 27730.02596631255, 27949.214009713847, 27968.878538842688, 27910.358812138635, 27763.59239935737, 27708.410166112277, 27793.001042324937, 28002.17640731791, 28061.676966307965, 28116.530235348677]}],\n",
       "                        {},\n",
       "                        {\"showLink\": false, \"linkText\": \"Export to plot.ly\", \"plotlyServerURL\": \"https://plot.ly\", \"responsive\": true}\n",
       "                    ).then(function(){\n",
       "                            \n",
       "var gd = document.getElementById('31818767-cd76-4aef-9d87-f905f6184426');\n",
       "var x = new MutationObserver(function (mutations, observer) {{\n",
       "        var display = window.getComputedStyle(gd).display;\n",
       "        if (!display || display === 'none') {{\n",
       "            console.log([gd, 'removed!']);\n",
       "            Plotly.purge(gd);\n",
       "            observer.disconnect();\n",
       "        }}\n",
       "}});\n",
       "\n",
       "// Listen for the removal of the full notebook cells\n",
       "var notebookContainer = gd.closest('#notebook-container');\n",
       "if (notebookContainer) {{\n",
       "    x.observe(notebookContainer, {childList: true});\n",
       "}}\n",
       "\n",
       "// Listen for the clearing of the current output cell\n",
       "var outputEl = gd.closest('.output');\n",
       "if (outputEl) {{\n",
       "    x.observe(outputEl, {childList: true});\n",
       "}}\n",
       "\n",
       "                        })\n",
       "                };\n",
       "                });\n",
       "            </script>\n",
       "        </div>"
      ]
     },
     "metadata": {},
     "output_type": "display_data"
    }
   ],
   "source": [
    "# кажется, получилось весьма неплохо\n",
    "plotting.plot_multiple_ts(ts, preds)"
   ]
  },
  {
   "cell_type": "code",
   "execution_count": 94,
   "metadata": {},
   "outputs": [
    {
     "data": {
      "text/plain": [
       "<matplotlib.axes._subplots.AxesSubplot at 0x138c265c0>"
      ]
     },
     "execution_count": 94,
     "metadata": {},
     "output_type": "execute_result"
    },
    {
     "data": {
      "image/png": "[encoded data removed]",
      "text/plain": [
       "<Figure size 432x288 with 1 Axes>"
      ]
     },
     "metadata": {
      "needs_background": "light"
     },
     "output_type": "display_data"
    }
   ],
   "source": [
    "ts.plot()\n",
    "preds.plot()"
   ]
  },
  {
   "cell_type": "markdown",
   "metadata": {},
   "source": [
    "### Давайте посмотрим на абсолютные метрики."
   ]
  },
  {
   "cell_type": "code",
   "execution_count": 95,
   "metadata": {},
   "outputs": [],
   "source": [
    "from sklearn.metrics import mean_squared_error, mean_absolute_error"
   ]
  },
  {
   "cell_type": "code",
   "execution_count": 96,
   "metadata": {},
   "outputs": [
    {
     "data": {
      "text/plain": [
       "32553.10051427141"
      ]
     },
     "execution_count": 96,
     "metadata": {},
     "output_type": "execute_result"
    }
   ],
   "source": [
    "mean_squared_error(preds, ts_test)"
   ]
  },
  {
   "cell_type": "code",
   "execution_count": 97,
   "metadata": {},
   "outputs": [
    {
     "data": {
      "text/plain": [
       "137.9848002737417"
      ]
     },
     "execution_count": 97,
     "metadata": {},
     "output_type": "execute_result"
    }
   ],
   "source": [
    "mean_absolute_error(preds, ts_test)"
   ]
  },
  {
   "cell_type": "code",
   "execution_count": 98,
   "metadata": {},
   "outputs": [],
   "source": [
    "# выдать какой-то вердикт по ним, впрочем, сложно"
   ]
  },
  {
   "cell_type": "markdown",
   "metadata": {},
   "source": [
    "### Остатки тоже выглядят неплохо"
   ]
  },
  {
   "cell_type": "code",
   "execution_count": 99,
   "metadata": {},
   "outputs": [
    {
     "data": {
      "application/vnd.plotly.v1+json": {
       "config": {
        "linkText": "Export to plot.ly",
        "plotlyServerURL": "https://plot.ly",
        "responsive": true,
        "showLink": false
       },
       "data": [
        {
         "name": "time-series",
         "type": "scatter",
         "uid": "0e43b887-b03c-41c1-bc9d-837e2556eaef",
         "x": [
          "2019-09-20",
          "2019-09-23",
          "2019-09-24",
          "2019-09-25",
          "2019-09-26",
          "2019-09-27",
          "2019-09-30",
          "2019-10-01",
          "2019-10-02",
          "2019-10-03",
          "2019-10-04",
          "2019-10-07",
          "2019-10-08",
          "2019-10-09",
          "2019-10-10",
          "2019-10-11",
          "2019-10-14",
          "2019-10-15",
          "2019-10-16",
          "2019-10-17",
          "2019-10-18",
          "2019-10-21",
          "2019-10-22",
          "2019-10-23",
          "2019-10-24",
          "2019-10-25",
          "2019-10-28",
          "2019-10-29",
          "2019-10-30",
          "2019-10-31",
          "2019-11-01",
          "2019-11-04",
          "2019-11-05",
          "2019-11-06",
          "2019-11-07",
          "2019-11-08",
          "2019-11-11",
          "2019-11-12",
          "2019-11-13",
          "2019-11-14",
          "2019-11-15",
          "2019-11-18",
          "2019-11-19",
          "2019-11-20",
          "2019-11-21",
          "2019-11-22",
          "2019-11-25",
          "2019-11-26",
          "2019-11-27",
          "2019-11-29"
         ],
         "y": [
          -175.54477864979344,
          -0.2217557218937145,
          -141.23551776634486,
          184.11144479937502,
          -50.394451602060144,
          -30.90761231333454,
          100.05848688803599,
          -283.2054140786022,
          -491.977395524078,
          95.00941603082902,
          406.0413698438606,
          5.904417961137369,
          -350.2993668874078,
          127.10194553361725,
          216.55644171638414,
          419.2153347311323,
          59.58455451766349,
          273.7551084813422,
          12.595216398502089,
          66.94949294355683,
          -229.4463955167157,
          70.50389387956602,
          -52.213249954416824,
          64.44039809049718,
          -76.71086845846366,
          157.19417131004593,
          129.08129114499752,
          50.82708361528421,
          132.18852451482235,
          -62.03548408856295,
          324.4836336054941,
          198.7374335184395,
          85.8278724248994,
          20.908151312964037,
          205.66583337856355,
          64.2103395204249,
          75.36899329432345,
          12.80221062928831,
          152.98363360049188,
          26.62000855673614,
          274.86465868744926,
          87.00669328614822,
          -34.85900784268597,
          -89.26896813863641,
          2.6966636426295736,
          167.2089748877297,
          273.46966067505855,
          119.5032806820891,
          102.3230336920351,
          -65.12007934867506
         ]
        }
       ],
       "layout": {}
      },
      "text/html": [
       "<div>\n",
       "        \n",
       "        \n",
       "            <div id=\"a615166c-0589-4477-b8c4-4a127633462b\" class=\"plotly-graph-div\" style=\"height:525px; width:100%;\"></div>\n",
       "            <script type=\"text/javascript\">\n",
       "                require([\"plotly\"], function(Plotly) {\n",
       "                    window.PLOTLYENV=window.PLOTLYENV || {};\n",
       "                    window.PLOTLYENV.BASE_URL='https://plot.ly';\n",
       "                    \n",
       "                if (document.getElementById(\"a615166c-0589-4477-b8c4-4a127633462b\")) {\n",
       "                    Plotly.newPlot(\n",
       "                        'a615166c-0589-4477-b8c4-4a127633462b',\n",
       "                        [{\"name\": \"time-series\", \"type\": \"scatter\", \"uid\": \"eb9030ee-d445-46c0-b4d7-4005b8a62b3f\", \"x\": [\"2019-09-20\", \"2019-09-23\", \"2019-09-24\", \"2019-09-25\", \"2019-09-26\", \"2019-09-27\", \"2019-09-30\", \"2019-10-01\", \"2019-10-02\", \"2019-10-03\", \"2019-10-04\", \"2019-10-07\", \"2019-10-08\", \"2019-10-09\", \"2019-10-10\", \"2019-10-11\", \"2019-10-14\", \"2019-10-15\", \"2019-10-16\", \"2019-10-17\", \"2019-10-18\", \"2019-10-21\", \"2019-10-22\", \"2019-10-23\", \"2019-10-24\", \"2019-10-25\", \"2019-10-28\", \"2019-10-29\", \"2019-10-30\", \"2019-10-31\", \"2019-11-01\", \"2019-11-04\", \"2019-11-05\", \"2019-11-06\", \"2019-11-07\", \"2019-11-08\", \"2019-11-11\", \"2019-11-12\", \"2019-11-13\", \"2019-11-14\", \"2019-11-15\", \"2019-11-18\", \"2019-11-19\", \"2019-11-20\", \"2019-11-21\", \"2019-11-22\", \"2019-11-25\", \"2019-11-26\", \"2019-11-27\", \"2019-11-29\"], \"y\": [-175.54477864979344, -0.2217557218937145, -141.23551776634486, 184.11144479937502, -50.394451602060144, -30.90761231333454, 100.05848688803599, -283.2054140786022, -491.977395524078, 95.00941603082902, 406.0413698438606, 5.904417961137369, -350.2993668874078, 127.10194553361725, 216.55644171638414, 419.2153347311323, 59.58455451766349, 273.7551084813422, 12.595216398502089, 66.94949294355683, -229.4463955167157, 70.50389387956602, -52.213249954416824, 64.44039809049718, -76.71086845846366, 157.19417131004593, 129.08129114499752, 50.82708361528421, 132.18852451482235, -62.03548408856295, 324.4836336054941, 198.7374335184395, 85.8278724248994, 20.908151312964037, 205.66583337856355, 64.2103395204249, 75.36899329432345, 12.80221062928831, 152.98363360049188, 26.62000855673614, 274.86465868744926, 87.00669328614822, -34.85900784268597, -89.26896813863641, 2.6966636426295736, 167.2089748877297, 273.46966067505855, 119.5032806820891, 102.3230336920351, -65.12007934867506]}],\n",
       "                        {},\n",
       "                        {\"showLink\": false, \"linkText\": \"Export to plot.ly\", \"plotlyServerURL\": \"https://plot.ly\", \"responsive\": true}\n",
       "                    ).then(function(){\n",
       "                            \n",
       "var gd = document.getElementById('a615166c-0589-4477-b8c4-4a127633462b');\n",
       "var x = new MutationObserver(function (mutations, observer) {{\n",
       "        var display = window.getComputedStyle(gd).display;\n",
       "        if (!display || display === 'none') {{\n",
       "            console.log([gd, 'removed!']);\n",
       "            Plotly.purge(gd);\n",
       "            observer.disconnect();\n",
       "        }}\n",
       "}});\n",
       "\n",
       "// Listen for the removal of the full notebook cells\n",
       "var notebookContainer = gd.closest('#notebook-container');\n",
       "if (notebookContainer) {{\n",
       "    x.observe(notebookContainer, {childList: true});\n",
       "}}\n",
       "\n",
       "// Listen for the clearing of the current output cell\n",
       "var outputEl = gd.closest('.output');\n",
       "if (outputEl) {{\n",
       "    x.observe(outputEl, {childList: true});\n",
       "}}\n",
       "\n",
       "                        })\n",
       "                };\n",
       "                });\n",
       "            </script>\n",
       "        </div>"
      ]
     },
     "metadata": {},
     "output_type": "display_data"
    }
   ],
   "source": [
    "plotting.plot_ts(ts_test-preds)"
   ]
  },
  {
   "cell_type": "code",
   "execution_count": 100,
   "metadata": {},
   "outputs": [
    {
     "data": {
      "text/plain": [
       "<matplotlib.axes._subplots.AxesSubplot at 0x1352a1d30>"
      ]
     },
     "execution_count": 100,
     "metadata": {},
     "output_type": "execute_result"
    },
    {
     "data": {
      "image/png": "[encoded data removed]",
      "text/plain": [
       "<Figure size 432x288 with 1 Axes>"
      ]
     },
     "metadata": {
      "needs_background": "light"
     },
     "output_type": "display_data"
    }
   ],
   "source": [
    "(ts_test-preds).plot()"
   ]
  },
  {
   "cell_type": "markdown",
   "metadata": {},
   "source": [
    "### Дикки-Фуллер говорит о стационарности остатков."
   ]
  },
  {
   "cell_type": "code",
   "execution_count": 101,
   "metadata": {},
   "outputs": [
    {
     "data": {
      "text/plain": [
       "0.03502614516584589"
      ]
     },
     "execution_count": 101,
     "metadata": {},
     "output_type": "execute_result"
    }
   ],
   "source": [
    "from statsmodels.tsa.stattools import adfuller\n",
    "adfuller(ts_test-preds)[1]"
   ]
  },
  {
   "cell_type": "markdown",
   "metadata": {},
   "source": [
    "### По всем признакам, мы получили неплохую модель. Пора выкатывать на прод!"
   ]
  },
  {
   "cell_type": "code",
   "execution_count": null,
   "metadata": {},
   "outputs": [],
   "source": []
  },
  {
   "cell_type": "markdown",
   "metadata": {},
   "source": [
    "### А теперь давайте сравним с наивным предсказанием."
   ]
  },
  {
   "cell_type": "code",
   "execution_count": 102,
   "metadata": {},
   "outputs": [],
   "source": [
    "from metrics import mase"
   ]
  },
  {
   "cell_type": "code",
   "execution_count": 103,
   "metadata": {},
   "outputs": [
    {
     "data": {
      "text/plain": [
       "1.100786870293901"
      ]
     },
     "execution_count": 103,
     "metadata": {},
     "output_type": "execute_result"
    }
   ],
   "source": [
    "mase(preds, ts_test, method='naive')"
   ]
  },
  {
   "cell_type": "markdown",
   "metadata": {},
   "source": [
    "### Модель показывает себя на 10% хуже наивного предсказания! "
   ]
  },
  {
   "cell_type": "markdown",
   "metadata": {},
   "source": [
    "![img](../data/images/directed.jpg)"
   ]
  },
  {
   "cell_type": "markdown",
   "metadata": {},
   "source": [
    "## Задание"
   ]
  },
  {
   "cell_type": "markdown",
   "metadata": {},
   "source": [
    "Реализуйте метрику MASE, которая записывается, как  \n",
    "`mase = MAE(y_pred, y_true) / MAE(y_reference, y_true)`, где  \n",
    "`y_pred` - one step ahead предсказания вашей модели на некой тестовой выборке  \n",
    "`y_true` - реальные значения тестовой выборки  \n",
    "`y_reference` - предсказания сравниваемой модели на той же тестовой выборке  \n",
    "\n",
    "\n",
    "* чтобы получить y_reference для наивного метода, достаточно только сдвинуть y_true (потерей одной точки в данном задании перенебрегаем\n",
    "* чтобы получить y_reference для всех остальных методов, необходимо передать в функцию историю ряда до y_true.\n",
    "* реализацию методов mean, median можете сделать как на всем ts, так и на произвольном скользящем окне по вашему усмотрению"
   ]
  },
  {
   "cell_type": "code",
   "execution_count": 104,
   "metadata": {},
   "outputs": [],
   "source": [
    "def mase(y_pred, y_true, method='naive', ts=None):\n",
    "    \"\"\"\n",
    "    Реализуйте метрику mase для сравнения предсказаний y_pred вашего метода и y_method, являющегося\n",
    "    предсказанием метода, указанного в параметре method.\n",
    "    \n",
    "    Формула для расчета mase = MAE(y_pred, y_true) / MAE(y_reference, y_true), \n",
    "    где MAE - mean absolute error - средняя абсолютная ошибка.\n",
    "    \n",
    "    В качестве method реализуйте поддержку {'naive', 'mean', 'median'}.\n",
    "    \n",
    "    Для наивного метода достаточно использовать только y_true.\n",
    "    Для методов средней и медианы понадобится использовать временной ряд ts.\n",
    "    \n",
    "    \"\"\"\n",
    "    \n",
    "    \n",
    "    '<your code here>'\n",
    "    pass"
   ]
  },
  {
   "cell_type": "code",
   "execution_count": null,
   "metadata": {},
   "outputs": [],
   "source": []
  }
 ],
 "metadata": {
  "kernelspec": {
   "display_name": "Python 3",
   "language": "python",
   "name": "python3"
  },
  "language_info": {
   "codemirror_mode": {
    "name": "ipython",
    "version": 3
   },
   "file_extension": ".py",
   "mimetype": "text/x-python",
   "name": "python",
   "nbconvert_exporter": "python",
   "pygments_lexer": "ipython3",
   "version": "3.7.3"
  }
 },
 "nbformat": 4,
 "nbformat_minor": 2
}
