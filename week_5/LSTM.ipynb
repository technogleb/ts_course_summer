{
 "cells": [
  {
   "cell_type": "code",
   "execution_count": 30,
   "metadata": {},
   "outputs": [],
   "source": [
    "%load_ext autoreload\n",
    "%autoreload 2"
   ]
  },
  {
   "cell_type": "code",
   "execution_count": 32,
   "metadata": {},
   "outputs": [],
   "source": [
    "import sys\n",
    "sys.path.append('/Users/gsinyakov/ts_course_summer/')"
   ]
  },
  {
   "cell_type": "code",
   "execution_count": 34,
   "metadata": {},
   "outputs": [],
   "source": [
    "from load_dataset import Dataset\n",
    "\n",
    "dataset = Dataset('/Users/gsinyakov/ts_course_summer/data/dataset/')"
   ]
  },
  {
   "cell_type": "markdown",
   "metadata": {},
   "source": [
    "### В чем заключаются недостатки полносвязных сетей?\n",
    "* невозможность улавливать временные закономерности в контексте предыдущих точек (архитектурное ограничение)\n",
    "* фиксированный размер входных данных\n",
    "* фиксированный размер выходных данных"
   ]
  },
  {
   "cell_type": "markdown",
   "metadata": {},
   "source": [
    "### Область применимости рекуретных сетей для задачи анализа временных рядов\n",
    "* большое количество экзогенных признаков, имеющих сложную нелинейную зависимость с целевым рядом\n",
    "* очень сложная временная структура имеющая наложение разных сезонных и цикличных паттернов\n",
    "* ряды с часто меняющимся паттерном, или большим количеством аномалий\n",
    "* когда есть необходимость в нефиксированной длине входных и выходных данных (например многомерные ряды, где для разных компонент хочется предоставить разное количество лагов) "
   ]
  },
  {
   "cell_type": "markdown",
   "metadata": {},
   "source": [
    "### Особенности подготовки данных - необходима нормализация данных, иначе сеть будет плохо сходиться и медленно обучаться."
   ]
  },
  {
   "cell_type": "code",
   "execution_count": 39,
   "metadata": {},
   "outputs": [],
   "source": [
    "import numpy as np\n",
    "import pandas as pd\n",
    "from sklearn.preprocessing import MinMaxScaler"
   ]
  },
  {
   "cell_type": "code",
   "execution_count": 12,
   "metadata": {},
   "outputs": [],
   "source": [
    "data = np.array(range(0, 100, 10)).reshape(-1, 1)"
   ]
  },
  {
   "cell_type": "code",
   "execution_count": 13,
   "metadata": {},
   "outputs": [],
   "source": [
    "scaler = MinMaxScaler((0, 1))"
   ]
  },
  {
   "cell_type": "code",
   "execution_count": 14,
   "metadata": {},
   "outputs": [
    {
     "data": {
      "text/plain": [
       "MinMaxScaler()"
      ]
     },
     "execution_count": 14,
     "metadata": {},
     "output_type": "execute_result"
    }
   ],
   "source": [
    "scaler.fit(data)"
   ]
  },
  {
   "cell_type": "code",
   "execution_count": 16,
   "metadata": {},
   "outputs": [],
   "source": [
    "transformed = scaler.transform(data)"
   ]
  },
  {
   "cell_type": "code",
   "execution_count": 17,
   "metadata": {},
   "outputs": [
    {
     "data": {
      "text/plain": [
       "array([[0.        ],\n",
       "       [0.11111111],\n",
       "       [0.22222222],\n",
       "       [0.33333333],\n",
       "       [0.44444444],\n",
       "       [0.55555556],\n",
       "       [0.66666667],\n",
       "       [0.77777778],\n",
       "       [0.88888889],\n",
       "       [1.        ]])"
      ]
     },
     "execution_count": 17,
     "metadata": {},
     "output_type": "execute_result"
    }
   ],
   "source": [
    "transformed"
   ]
  },
  {
   "cell_type": "code",
   "execution_count": 18,
   "metadata": {},
   "outputs": [],
   "source": [
    "inverse = scaler.inverse_transform(transformed)"
   ]
  },
  {
   "cell_type": "code",
   "execution_count": 19,
   "metadata": {},
   "outputs": [
    {
     "data": {
      "text/plain": [
       "array([[ 0.],\n",
       "       [10.],\n",
       "       [20.],\n",
       "       [30.],\n",
       "       [40.],\n",
       "       [50.],\n",
       "       [60.],\n",
       "       [70.],\n",
       "       [80.],\n",
       "       [90.]])"
      ]
     },
     "execution_count": 19,
     "metadata": {},
     "output_type": "execute_result"
    }
   ],
   "source": [
    "inverse"
   ]
  },
  {
   "cell_type": "markdown",
   "metadata": {},
   "source": [
    "### Особенность подготвки данных - обработка последовательностей разной длины."
   ]
  },
  {
   "cell_type": "code",
   "execution_count": 20,
   "metadata": {},
   "outputs": [],
   "source": [
    "from keras.preprocessing.sequence import pad_sequences"
   ]
  },
  {
   "cell_type": "code",
   "execution_count": 22,
   "metadata": {},
   "outputs": [],
   "source": [
    "sequences = [\n",
    "    [1, 2, 3, 4],\n",
    "    [3, 4, 5],\n",
    "    [5, 6],\n",
    "    [3]\n",
    "]"
   ]
  },
  {
   "cell_type": "code",
   "execution_count": 24,
   "metadata": {},
   "outputs": [
    {
     "data": {
      "text/plain": [
       "array([[1, 2, 3, 4],\n",
       "       [0, 3, 4, 5],\n",
       "       [0, 0, 5, 6],\n",
       "       [0, 0, 0, 3]], dtype=int32)"
      ]
     },
     "execution_count": 24,
     "metadata": {},
     "output_type": "execute_result"
    }
   ],
   "source": [
    "pad_sequences(sequences, padding='pre')"
   ]
  },
  {
   "cell_type": "code",
   "execution_count": 25,
   "metadata": {},
   "outputs": [
    {
     "data": {
      "text/plain": [
       "array([[1, 2, 3, 4],\n",
       "       [3, 4, 5, 0],\n",
       "       [5, 6, 0, 0],\n",
       "       [3, 0, 0, 0]], dtype=int32)"
      ]
     },
     "execution_count": 25,
     "metadata": {},
     "output_type": "execute_result"
    }
   ],
   "source": [
    "pad_sequences(sequences, padding='post')"
   ]
  },
  {
   "cell_type": "code",
   "execution_count": 27,
   "metadata": {},
   "outputs": [
    {
     "data": {
      "text/plain": [
       "array([[3, 4],\n",
       "       [4, 5],\n",
       "       [5, 6],\n",
       "       [0, 3]], dtype=int32)"
      ]
     },
     "execution_count": 27,
     "metadata": {},
     "output_type": "execute_result"
    }
   ],
   "source": [
    "pad_sequences(sequences, maxlen=2)"
   ]
  },
  {
   "cell_type": "code",
   "execution_count": 29,
   "metadata": {},
   "outputs": [
    {
     "data": {
      "text/plain": [
       "array([[1, 2],\n",
       "       [3, 4],\n",
       "       [5, 6],\n",
       "       [0, 3]], dtype=int32)"
      ]
     },
     "execution_count": 29,
     "metadata": {},
     "output_type": "execute_result"
    }
   ],
   "source": [
    "pad_sequences(sequences, maxlen=2, truncating='post')"
   ]
  },
  {
   "cell_type": "markdown",
   "metadata": {},
   "source": [
    "### Какие архитектуры lstm нас интересуют в контексте временных рядов?\n",
    "* one-to-one - предсказание следующей точки по предыдущей - нет\n",
    "* one-to-many - предсказание следующих N точeк про предыдущей - нет\n",
    "* many-to-one - one-step-ahead предсказание - в некоторой степени\n",
    "* many-to-many -  предсказание вектора из следующих m точек по предыдущим n точкам - наибольший интерес"
   ]
  },
  {
   "cell_type": "markdown",
   "metadata": {},
   "source": [
    "### Простая LSTM сеть"
   ]
  },
  {
   "cell_type": "code",
   "execution_count": 51,
   "metadata": {},
   "outputs": [],
   "source": [
    "from keras.models import Sequential\n",
    "from keras.layers import LSTM, Dense"
   ]
  },
  {
   "cell_type": "code",
   "execution_count": 37,
   "metadata": {},
   "outputs": [],
   "source": [
    "ts = dataset['daily-min-temperatures.csv']"
   ]
  },
  {
   "cell_type": "code",
   "execution_count": 43,
   "metadata": {},
   "outputs": [
    {
     "data": {
      "text/plain": [
       "<matplotlib.axes._subplots.AxesSubplot at 0x14a3dd5f8>"
      ]
     },
     "execution_count": 43,
     "metadata": {},
     "output_type": "execute_result"
    },
    {
     "data": {
      "image/png": "[encoded data removed]",
      "text/plain": [
       "<Figure size 1080x360 with 1 Axes>"
      ]
     },
     "metadata": {
      "needs_background": "light"
     },
     "output_type": "display_data"
    }
   ],
   "source": [
    "ts.plot(figsize=(15, 5))"
   ]
  },
  {
   "cell_type": "code",
   "execution_count": 87,
   "metadata": {},
   "outputs": [],
   "source": [
    "def transform_into_matrix(ts: pd.Series, num_lags: int) -> pd.DataFrame:\n",
    "    \"\"\"\n",
    "    Transforms time series into lags matrix to allow\n",
    "    applying supervised learning algorithms\n",
    "\n",
    "    Parameters\n",
    "    ------------\n",
    "    ts\n",
    "        Time series to transform\n",
    "    num_lags\n",
    "        Number of lags to use\n",
    "\n",
    "    Returns\n",
    "    --------\n",
    "        train, test: np.arrays of shapes (ts-num_lags, num_lags), (num_lags,)\n",
    "    \"\"\"\n",
    "\n",
    "    ts_values = ts.values\n",
    "    data = {}\n",
    "    for i in range(num_lags + 1):\n",
    "        data[f'lag_{num_lags - i}'] = np.roll(ts_values, -i)\n",
    "\n",
    "    lags_matrix = pd.DataFrame(data)[:-num_lags]\n",
    "    lags_matrix.index = ts.index[num_lags:]\n",
    "\n",
    "    return lags_matrix.drop('lag_0', axis=1).values, lags_matrix['lag_0'].values"
   ]
  },
  {
   "cell_type": "code",
   "execution_count": 88,
   "metadata": {},
   "outputs": [],
   "source": [
    "NUM_LAGS = 14\n",
    "X, y = transform_into_matrix(ts, NUM_LAGS)"
   ]
  },
  {
   "cell_type": "code",
   "execution_count": 89,
   "metadata": {},
   "outputs": [
    {
     "data": {
      "text/plain": [
       "array([17.9, 18.8, 14.6, 15.8, 15.8, 15.8, 17.4, 21.8, 20. , 16.2, 13.3,\n",
       "       16.7, 21.5, 25. ])"
      ]
     },
     "execution_count": 89,
     "metadata": {},
     "output_type": "execute_result"
    }
   ],
   "source": [
    "X[0]"
   ]
  },
  {
   "cell_type": "code",
   "execution_count": 90,
   "metadata": {},
   "outputs": [],
   "source": [
    "X = X.reshape((X.shape[0], X.shape[1], 1))"
   ]
  },
  {
   "cell_type": "code",
   "execution_count": 91,
   "metadata": {},
   "outputs": [
    {
     "data": {
      "text/plain": [
       "array([[17.9],\n",
       "       [18.8],\n",
       "       [14.6],\n",
       "       [15.8],\n",
       "       [15.8],\n",
       "       [15.8],\n",
       "       [17.4],\n",
       "       [21.8],\n",
       "       [20. ],\n",
       "       [16.2],\n",
       "       [13.3],\n",
       "       [16.7],\n",
       "       [21.5],\n",
       "       [25. ]])"
      ]
     },
     "execution_count": 91,
     "metadata": {},
     "output_type": "execute_result"
    }
   ],
   "source": [
    "X[0]"
   ]
  },
  {
   "cell_type": "code",
   "execution_count": 94,
   "metadata": {},
   "outputs": [],
   "source": [
    "split_idx = int(len(X)*0.8)\n",
    "X_train, X_test = X[:split_idx], X[split_idx:]\n",
    "y_train, y_test = y[:split_idx], y[split_idx:]"
   ]
  },
  {
   "cell_type": "code",
   "execution_count": 95,
   "metadata": {},
   "outputs": [],
   "source": [
    "model = Sequential()\n",
    "model.add(LSTM(50, activation='relu', input_shape=(NUM_LAGS, 1)))\n",
    "model.add(Dense(1))\n",
    "model.compile(optimizer='adam', loss='mse')"
   ]
  },
  {
   "cell_type": "code",
   "execution_count": 96,
   "metadata": {
    "scrolled": true
   },
   "outputs": [
    {
     "name": "stdout",
     "output_type": "stream",
     "text": [
      "Epoch 1/100\n",
      "114/114 [==============================] - 1s 5ms/step - loss: 24.7993\n",
      "Epoch 2/100\n",
      "114/114 [==============================] - 1s 5ms/step - loss: 6.2100\n",
      "Epoch 3/100\n",
      "114/114 [==============================] - 1s 4ms/step - loss: 5.9427\n",
      "Epoch 4/100\n",
      "114/114 [==============================] - 0s 4ms/step - loss: 5.9848\n",
      "Epoch 5/100\n",
      "114/114 [==============================] - 1s 5ms/step - loss: 5.9548\n",
      "Epoch 6/100\n",
      "114/114 [==============================] - 1s 5ms/step - loss: 5.9400\n",
      "Epoch 7/100\n",
      "114/114 [==============================] - 1s 5ms/step - loss: 5.8584\n",
      "Epoch 8/100\n",
      "114/114 [==============================] - 1s 5ms/step - loss: 5.8291\n",
      "Epoch 9/100\n",
      "114/114 [==============================] - 1s 5ms/step - loss: 5.8180\n",
      "Epoch 10/100\n",
      "114/114 [==============================] - 1s 5ms/step - loss: 5.8432\n",
      "Epoch 11/100\n",
      "114/114 [==============================] - 1s 5ms/step - loss: 5.7603\n",
      "Epoch 12/100\n",
      "114/114 [==============================] - 1s 5ms/step - loss: 5.7874\n",
      "Epoch 13/100\n",
      "114/114 [==============================] - 1s 5ms/step - loss: 5.7456\n",
      "Epoch 14/100\n",
      "114/114 [==============================] - 1s 5ms/step - loss: 5.7746\n",
      "Epoch 15/100\n",
      "114/114 [==============================] - 1s 5ms/step - loss: 5.8469\n",
      "Epoch 16/100\n",
      "114/114 [==============================] - 1s 5ms/step - loss: 5.7852\n",
      "Epoch 17/100\n",
      "114/114 [==============================] - 1s 5ms/step - loss: 5.7758\n",
      "Epoch 18/100\n",
      "114/114 [==============================] - 0s 4ms/step - loss: 5.7360\n",
      "Epoch 19/100\n",
      "114/114 [==============================] - 0s 4ms/step - loss: 5.7850\n",
      "Epoch 20/100\n",
      "114/114 [==============================] - 1s 4ms/step - loss: 5.7679\n",
      "Epoch 21/100\n",
      "114/114 [==============================] - 1s 5ms/step - loss: 5.7389\n",
      "Epoch 22/100\n",
      "114/114 [==============================] - 1s 5ms/step - loss: 5.7122\n",
      "Epoch 23/100\n",
      "114/114 [==============================] - 1s 5ms/step - loss: 5.7043\n",
      "Epoch 24/100\n",
      "114/114 [==============================] - 1s 4ms/step - loss: 5.8009\n",
      "Epoch 25/100\n",
      "114/114 [==============================] - 1s 4ms/step - loss: 5.8098\n",
      "Epoch 26/100\n",
      "114/114 [==============================] - 1s 5ms/step - loss: 5.7370\n",
      "Epoch 27/100\n",
      "114/114 [==============================] - 0s 4ms/step - loss: 5.7089\n",
      "Epoch 28/100\n",
      "114/114 [==============================] - 0s 4ms/step - loss: 5.7015\n",
      "Epoch 29/100\n",
      "114/114 [==============================] - 1s 5ms/step - loss: 5.6795\n",
      "Epoch 30/100\n",
      "114/114 [==============================] - 1s 5ms/step - loss: 5.7335\n",
      "Epoch 31/100\n",
      "114/114 [==============================] - 0s 4ms/step - loss: 5.7167\n",
      "Epoch 32/100\n",
      "114/114 [==============================] - 1s 4ms/step - loss: 5.6936\n",
      "Epoch 33/100\n",
      "114/114 [==============================] - 0s 4ms/step - loss: 5.6966\n",
      "Epoch 34/100\n",
      "114/114 [==============================] - 0s 4ms/step - loss: 5.6747\n",
      "Epoch 35/100\n",
      "114/114 [==============================] - 0s 4ms/step - loss: 5.6827\n",
      "Epoch 36/100\n",
      "114/114 [==============================] - 0s 4ms/step - loss: 5.6853\n",
      "Epoch 37/100\n",
      "114/114 [==============================] - 0s 4ms/step - loss: 5.6735\n",
      "Epoch 38/100\n",
      "114/114 [==============================] - 0s 4ms/step - loss: 5.7001\n",
      "Epoch 39/100\n",
      "114/114 [==============================] - 0s 4ms/step - loss: 5.6378\n",
      "Epoch 40/100\n",
      "114/114 [==============================] - 0s 4ms/step - loss: 5.6555\n",
      "Epoch 41/100\n",
      "114/114 [==============================] - 0s 4ms/step - loss: 5.6740\n",
      "Epoch 42/100\n",
      "114/114 [==============================] - 0s 4ms/step - loss: 5.7267\n",
      "Epoch 43/100\n",
      "114/114 [==============================] - 0s 4ms/step - loss: 5.6500\n",
      "Epoch 44/100\n",
      "114/114 [==============================] - 0s 4ms/step - loss: 5.6270\n",
      "Epoch 45/100\n",
      "114/114 [==============================] - 0s 4ms/step - loss: 5.6275\n",
      "Epoch 46/100\n",
      "114/114 [==============================] - 1s 4ms/step - loss: 5.6178\n",
      "Epoch 47/100\n",
      "114/114 [==============================] - 0s 4ms/step - loss: 5.6453\n",
      "Epoch 48/100\n",
      "114/114 [==============================] - 0s 4ms/step - loss: 5.6477\n",
      "Epoch 49/100\n",
      "114/114 [==============================] - 1s 5ms/step - loss: 6.3375\n",
      "Epoch 50/100\n",
      "114/114 [==============================] - 0s 4ms/step - loss: 5.8804\n",
      "Epoch 51/100\n",
      "114/114 [==============================] - 0s 4ms/step - loss: 5.8035\n",
      "Epoch 52/100\n",
      "114/114 [==============================] - 0s 4ms/step - loss: 5.6940\n",
      "Epoch 53/100\n",
      "114/114 [==============================] - 1s 5ms/step - loss: 5.6964\n",
      "Epoch 54/100\n",
      "114/114 [==============================] - 1s 5ms/step - loss: 5.7054\n",
      "Epoch 55/100\n",
      "114/114 [==============================] - 1s 5ms/step - loss: 5.6999\n",
      "Epoch 56/100\n",
      "114/114 [==============================] - 1s 4ms/step - loss: 5.6879\n",
      "Epoch 57/100\n",
      "114/114 [==============================] - 1s 4ms/step - loss: 5.6834\n",
      "Epoch 58/100\n",
      "114/114 [==============================] - 1s 5ms/step - loss: 5.7475\n",
      "Epoch 59/100\n",
      "114/114 [==============================] - 0s 4ms/step - loss: 5.6832\n",
      "Epoch 60/100\n",
      "114/114 [==============================] - 1s 4ms/step - loss: 5.6494\n",
      "Epoch 61/100\n",
      "114/114 [==============================] - 0s 4ms/step - loss: 5.6302\n",
      "Epoch 62/100\n",
      "114/114 [==============================] - 0s 4ms/step - loss: 5.6672\n",
      "Epoch 63/100\n",
      "114/114 [==============================] - 0s 4ms/step - loss: 5.6250\n",
      "Epoch 64/100\n",
      "114/114 [==============================] - 0s 4ms/step - loss: 5.6364\n",
      "Epoch 65/100\n",
      "114/114 [==============================] - 0s 4ms/step - loss: 5.6379\n",
      "Epoch 66/100\n",
      "114/114 [==============================] - 0s 4ms/step - loss: 5.6409\n",
      "Epoch 67/100\n",
      "114/114 [==============================] - 0s 4ms/step - loss: 5.6473\n",
      "Epoch 68/100\n",
      "114/114 [==============================] - 0s 4ms/step - loss: 5.6524\n",
      "Epoch 69/100\n",
      "114/114 [==============================] - 1s 4ms/step - loss: 5.7419\n",
      "Epoch 70/100\n",
      "114/114 [==============================] - 0s 4ms/step - loss: 5.6235\n",
      "Epoch 71/100\n",
      "114/114 [==============================] - 1s 5ms/step - loss: 5.6283\n",
      "Epoch 72/100\n",
      "114/114 [==============================] - 1s 4ms/step - loss: 5.6237\n",
      "Epoch 73/100\n",
      "114/114 [==============================] - 1s 5ms/step - loss: 5.6453\n",
      "Epoch 74/100\n",
      "114/114 [==============================] - 1s 5ms/step - loss: 5.6198\n",
      "Epoch 75/100\n",
      "114/114 [==============================] - 1s 4ms/step - loss: 5.6171\n",
      "Epoch 76/100\n",
      "114/114 [==============================] - 1s 5ms/step - loss: 5.6409\n",
      "Epoch 77/100\n",
      "114/114 [==============================] - 1s 4ms/step - loss: 5.6045\n",
      "Epoch 78/100\n",
      "114/114 [==============================] - 1s 5ms/step - loss: 5.6181\n",
      "Epoch 79/100\n",
      "114/114 [==============================] - 1s 5ms/step - loss: 5.6123\n",
      "Epoch 80/100\n",
      "114/114 [==============================] - 1s 5ms/step - loss: 5.6057\n",
      "Epoch 81/100\n",
      "114/114 [==============================] - 1s 5ms/step - loss: 5.5662\n",
      "Epoch 82/100\n",
      "114/114 [==============================] - 1s 5ms/step - loss: 5.6001\n",
      "Epoch 83/100\n",
      "114/114 [==============================] - 1s 5ms/step - loss: 5.5896\n",
      "Epoch 84/100\n",
      "114/114 [==============================] - 1s 5ms/step - loss: 5.5916\n",
      "Epoch 85/100\n",
      "114/114 [==============================] - 1s 5ms/step - loss: 5.6228\n",
      "Epoch 86/100\n",
      "114/114 [==============================] - 1s 5ms/step - loss: 5.5816\n",
      "Epoch 87/100\n",
      "114/114 [==============================] - 1s 5ms/step - loss: 5.5714\n",
      "Epoch 88/100\n",
      "114/114 [==============================] - 1s 5ms/step - loss: 5.6087\n",
      "Epoch 89/100\n",
      "114/114 [==============================] - 1s 5ms/step - loss: 5.6352\n",
      "Epoch 90/100\n",
      "114/114 [==============================] - 1s 5ms/step - loss: 5.6050\n",
      "Epoch 91/100\n",
      "114/114 [==============================] - 1s 5ms/step - loss: 5.6000\n",
      "Epoch 92/100\n",
      "114/114 [==============================] - 1s 6ms/step - loss: 5.5778\n",
      "Epoch 93/100\n",
      "114/114 [==============================] - 1s 5ms/step - loss: 5.5830\n",
      "Epoch 94/100\n",
      "114/114 [==============================] - 1s 5ms/step - loss: 5.5625\n",
      "Epoch 95/100\n",
      "114/114 [==============================] - 1s 5ms/step - loss: 5.5552\n",
      "Epoch 96/100\n",
      "114/114 [==============================] - 1s 5ms/step - loss: 5.5504\n",
      "Epoch 97/100\n",
      "114/114 [==============================] - 1s 5ms/step - loss: 5.5428\n",
      "Epoch 98/100\n",
      "114/114 [==============================] - 1s 5ms/step - loss: 5.5586\n",
      "Epoch 99/100\n"
     ]
    },
    {
     "name": "stdout",
     "output_type": "stream",
     "text": [
      "114/114 [==============================] - 1s 5ms/step - loss: 5.5887\n",
      "Epoch 100/100\n",
      "114/114 [==============================] - 1s 5ms/step - loss: 5.5597\n"
     ]
    },
    {
     "data": {
      "text/plain": [
       "<tensorflow.python.keras.callbacks.History at 0x14b6dd940>"
      ]
     },
     "execution_count": 96,
     "metadata": {},
     "output_type": "execute_result"
    }
   ],
   "source": [
    "model.fit(X, y, epochs=100)"
   ]
  },
  {
   "cell_type": "code",
   "execution_count": 98,
   "metadata": {},
   "outputs": [],
   "source": [
    "y_pred = model.predict(X_test)"
   ]
  },
  {
   "cell_type": "code",
   "execution_count": 104,
   "metadata": {},
   "outputs": [
    {
     "data": {
      "text/plain": [
       "<matplotlib.axes._subplots.AxesSubplot at 0x14d2c11d0>"
      ]
     },
     "execution_count": 104,
     "metadata": {},
     "output_type": "execute_result"
    },
    {
     "data": {
      "image/png": "[encoded data removed]",
      "text/plain": [
       "<Figure size 432x288 with 1 Axes>"
      ]
     },
     "metadata": {
      "needs_background": "light"
     },
     "output_type": "display_data"
    }
   ],
   "source": [
    "pd.Series(y_test.flatten()).plot()\n",
    "pd.Series(y_pred.flatten()).plot()"
   ]
  },
  {
   "cell_type": "code",
   "execution_count": 105,
   "metadata": {},
   "outputs": [],
   "source": [
    "### данный результат на самом деле не сильно лучше наивного предсказания"
   ]
  },
  {
   "cell_type": "markdown",
   "metadata": {},
   "source": [
    "### Stacked LSTM"
   ]
  },
  {
   "cell_type": "markdown",
   "metadata": {},
   "source": [
    "#### Добавьте дополнительные скрытые слои в сеть (используйте return_sequences=True) и сравните качество"
   ]
  },
  {
   "cell_type": "code",
   "execution_count": 107,
   "metadata": {},
   "outputs": [],
   "source": [
    "model = Sequential()\n",
    "model.add(LSTM(50, activation='relu', input_shape=(NUM_LAGS, 1)))\n",
    "# ваш код\n",
    "model.add(Dense(1))\n",
    "model.compile(optimizer='adam', loss='mse')"
   ]
  },
  {
   "cell_type": "code",
   "execution_count": null,
   "metadata": {},
   "outputs": [],
   "source": []
  },
  {
   "cell_type": "markdown",
   "metadata": {},
   "source": [
    "#### Bidirectional LSTM"
   ]
  },
  {
   "cell_type": "markdown",
   "metadata": {},
   "source": [
    "#### Сделайте LSTM слой сети Bidirectional при помощи доп слоя Biderectional и сравните качество"
   ]
  },
  {
   "cell_type": "code",
   "execution_count": 109,
   "metadata": {},
   "outputs": [],
   "source": [
    "from keras.layers import Bidirectional\n",
    "\n",
    "model = Sequential()\n",
    "model.add(LSTM(50, activation='relu', input_shape=(NUM_LAGS, 1)))\n",
    "# ваш код\n",
    "model.add(Dense(1))\n",
    "model.compile(optimizer='adam', loss='mse')"
   ]
  },
  {
   "cell_type": "code",
   "execution_count": null,
   "metadata": {},
   "outputs": [],
   "source": []
  },
  {
   "cell_type": "markdown",
   "metadata": {},
   "source": [
    "### Seq2Seq LSTM - когда нужно сделать предсказание на несколько точек вперед"
   ]
  },
  {
   "cell_type": "markdown",
   "metadata": {},
   "source": [
    "#### Подготовим данные"
   ]
  },
  {
   "cell_type": "code",
   "execution_count": 110,
   "metadata": {},
   "outputs": [],
   "source": [
    "from typing import Tuple\n",
    "\n",
    "def transform_ts_into_matrix(ts: pd.Series, num_lags_in: int, num_lags_out: int) -> Tuple[np.array, np.array]:\n",
    "    \"\"\"\n",
    "    Данная функция должна пройтись скользящим окном по временному ряду и для каждых\n",
    "    num_lags_in точек в качестве признаков собрать num_lags_out следующих точек в качестве таргета.\n",
    "    \n",
    "    Вернуть два np.array массива из X_train и y_train соответственно\n",
    "    \"\"\"\n",
    "    sequence = ts.values\n",
    "    X, y = list(), list()\n",
    "    i = 0\n",
    "    outer_idx = num_lags_out\n",
    "    while outer_idx < len(sequence):\n",
    "        inner_idx = i + num_lags_in\n",
    "        outer_idx = inner_idx + num_lags_out\n",
    "        X_, y_ = sequence[i:inner_idx], sequence[inner_idx:outer_idx]\n",
    "        X.append(X_)\n",
    "        y.append(y_)\n",
    "        i += 1\n",
    "    return np.array(X), np.array(y)"
   ]
  },
  {
   "cell_type": "code",
   "execution_count": 113,
   "metadata": {},
   "outputs": [],
   "source": [
    "# получите X и y при помощи предыдущей функции и разбейте на трейн и тест \n",
    "NUM_LAGS_IN = 28\n",
    "NUM_LAGS_OUT = 7"
   ]
  },
  {
   "cell_type": "code",
   "execution_count": 115,
   "metadata": {},
   "outputs": [],
   "source": [
    "# объявим енкодер\n",
    "model = Sequential()\n",
    "model.add(LSTM(100, activation='relu', input_shape=(NUM_LAGS_IN, 1)))"
   ]
  },
  {
   "cell_type": "code",
   "execution_count": 118,
   "metadata": {},
   "outputs": [],
   "source": [
    "# добавим промежуточный слой, преобразующий выход с енкодера для входного слоя в декодер\n",
    "from keras.layers import RepeatVector\n",
    "model.add(RepeatVector(NUM_LAGS_OUT))"
   ]
  },
  {
   "cell_type": "code",
   "execution_count": 120,
   "metadata": {},
   "outputs": [],
   "source": [
    "# обьявим декодер\n",
    "model.add(LSTM(50, activation='relu', return_sequences=True))"
   ]
  },
  {
   "cell_type": "code",
   "execution_count": 122,
   "metadata": {},
   "outputs": [],
   "source": [
    "# обьявим выходной слой - размерность на выходе получается при помощи дополнительного слоя TimeDistributed\n",
    "from keras.layers import TimeDistributed\n",
    "model.add(TimeDistributed(Dense(1)))"
   ]
  },
  {
   "cell_type": "markdown",
   "metadata": {},
   "source": [
    "#### Обучите модель и получите предсказание на тесте"
   ]
  },
  {
   "cell_type": "code",
   "execution_count": 123,
   "metadata": {},
   "outputs": [],
   "source": [
    "# ваш код здесь"
   ]
  },
  {
   "cell_type": "code",
   "execution_count": null,
   "metadata": {},
   "outputs": [],
   "source": []
  }
 ],
 "metadata": {
  "kernelspec": {
   "display_name": "Python 3",
   "language": "python",
   "name": "python3"
  },
  "language_info": {
   "codemirror_mode": {
    "name": "ipython",
    "version": 3
   },
   "file_extension": ".py",
   "mimetype": "text/x-python",
   "name": "python",
   "nbconvert_exporter": "python",
   "pygments_lexer": "ipython3",
   "version": "3.7.3"
  }
 },
 "nbformat": 4,
 "nbformat_minor": 4
}
